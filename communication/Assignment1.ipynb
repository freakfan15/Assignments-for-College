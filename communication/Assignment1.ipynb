{
 "cells": [
  {
   "cell_type": "code",
   "execution_count": 66,
   "id": "174e5571",
   "metadata": {},
   "outputs": [],
   "source": [
    "import numpy as np\n",
    "import matplotlib.pyplot as plt\n",
    "import pandas as pd"
   ]
  },
  {
   "cell_type": "code",
   "execution_count": 67,
   "id": "d4d0d082",
   "metadata": {},
   "outputs": [],
   "source": [
    "df = pd.read_csv('train.csv', index_col=None)"
   ]
  },
  {
   "cell_type": "code",
   "execution_count": 68,
   "id": "298e24c4",
   "metadata": {},
   "outputs": [
    {
     "data": {
      "text/html": [
       "<div>\n",
       "<style scoped>\n",
       "    .dataframe tbody tr th:only-of-type {\n",
       "        vertical-align: middle;\n",
       "    }\n",
       "\n",
       "    .dataframe tbody tr th {\n",
       "        vertical-align: top;\n",
       "    }\n",
       "\n",
       "    .dataframe thead th {\n",
       "        text-align: right;\n",
       "    }\n",
       "</style>\n",
       "<table border=\"1\" class=\"dataframe\">\n",
       "  <thead>\n",
       "    <tr style=\"text-align: right;\">\n",
       "      <th></th>\n",
       "      <th>SNR</th>\n",
       "      <th>Modulation order</th>\n",
       "      <th>Modulation</th>\n",
       "    </tr>\n",
       "  </thead>\n",
       "  <tbody>\n",
       "    <tr>\n",
       "      <th>0</th>\n",
       "      <td>4</td>\n",
       "      <td>0</td>\n",
       "      <td>NaN</td>\n",
       "    </tr>\n",
       "    <tr>\n",
       "      <th>1</th>\n",
       "      <td>8</td>\n",
       "      <td>1</td>\n",
       "      <td>BPSK</td>\n",
       "    </tr>\n",
       "    <tr>\n",
       "      <th>2</th>\n",
       "      <td>8</td>\n",
       "      <td>2</td>\n",
       "      <td>QPSK</td>\n",
       "    </tr>\n",
       "    <tr>\n",
       "      <th>3</th>\n",
       "      <td>10</td>\n",
       "      <td>2</td>\n",
       "      <td>QPSK</td>\n",
       "    </tr>\n",
       "    <tr>\n",
       "      <th>4</th>\n",
       "      <td>12</td>\n",
       "      <td>3</td>\n",
       "      <td>8-QAM</td>\n",
       "    </tr>\n",
       "    <tr>\n",
       "      <th>5</th>\n",
       "      <td>14</td>\n",
       "      <td>4</td>\n",
       "      <td>16-QAM</td>\n",
       "    </tr>\n",
       "    <tr>\n",
       "      <th>6</th>\n",
       "      <td>16</td>\n",
       "      <td>5</td>\n",
       "      <td>32-QAM</td>\n",
       "    </tr>\n",
       "  </tbody>\n",
       "</table>\n",
       "</div>"
      ],
      "text/plain": [
       "   SNR  Modulation order Modulation\n",
       "0    4                 0        NaN\n",
       "1    8                 1       BPSK\n",
       "2    8                 2       QPSK\n",
       "3   10                 2       QPSK\n",
       "4   12                 3      8-QAM\n",
       "5   14                 4     16-QAM\n",
       "6   16                 5     32-QAM"
      ]
     },
     "execution_count": 68,
     "metadata": {},
     "output_type": "execute_result"
    }
   ],
   "source": [
    "df"
   ]
  },
  {
   "cell_type": "code",
   "execution_count": 69,
   "id": "9e72dc74",
   "metadata": {},
   "outputs": [
    {
     "name": "stdout",
     "output_type": "stream",
     "text": [
      "[nan 'BPSK' 'QPSK' 'QPSK' '8-QAM' '16-QAM' '32-QAM']\n",
      "[5 3 4 4 2 0 1]\n",
      "[[0. 0. 0. 0. 0. 1.]\n",
      " [0. 0. 0. 1. 0. 0.]\n",
      " [0. 0. 0. 0. 1. 0.]\n",
      " [0. 0. 0. 0. 1. 0.]\n",
      " [0. 0. 1. 0. 0. 0.]\n",
      " [1. 0. 0. 0. 0. 0.]\n",
      " [0. 1. 0. 0. 0. 0.]]\n",
      "[nan]\n"
     ]
    }
   ],
   "source": [
    "from numpy import array\n",
    "from numpy import argmax\n",
    "from sklearn.preprocessing import LabelEncoder\n",
    "from sklearn.preprocessing import OneHotEncoder\n",
    "# define example\n",
    "data = df['Modulation']\n",
    "values = array(data)\n",
    "print(values)\n",
    "# integer encode\n",
    "label_encoder = LabelEncoder()\n",
    "integer_encoded = label_encoder.fit_transform(values)\n",
    "print(integer_encoded)\n",
    "# binary encode\n",
    "onehot_encoder = OneHotEncoder(sparse=False)\n",
    "integer_encoded = integer_encoded.reshape(len(integer_encoded), 1)\n",
    "onehot_encoded = onehot_encoder.fit_transform(integer_encoded)\n",
    "print(onehot_encoded)\n",
    "# invert first example\n",
    "inverted = label_encoder.inverse_transform([argmax(onehot_encoded[0, :])])\n",
    "print(inverted)"
   ]
  },
  {
   "cell_type": "code",
   "execution_count": 70,
   "id": "cd39cc97",
   "metadata": {},
   "outputs": [
    {
     "data": {
      "text/plain": [
       "array([[4, 0, nan],\n",
       "       [8, 1, 'BPSK'],\n",
       "       [8, 2, 'QPSK'],\n",
       "       [10, 2, 'QPSK'],\n",
       "       [12, 3, '8-QAM'],\n",
       "       [14, 4, '16-QAM'],\n",
       "       [16, 5, '32-QAM']], dtype=object)"
      ]
     },
     "execution_count": 70,
     "metadata": {},
     "output_type": "execute_result"
    }
   ],
   "source": [
    "df_values = df.values\n",
    "df_values"
   ]
  },
  {
   "cell_type": "code",
   "execution_count": 76,
   "id": "31945705",
   "metadata": {},
   "outputs": [
    {
     "data": {
      "text/plain": [
       "array([[4, 0],\n",
       "       [8, 1],\n",
       "       [8, 2],\n",
       "       [10, 2],\n",
       "       [12, 3],\n",
       "       [14, 4],\n",
       "       [16, 5]], dtype=object)"
      ]
     },
     "execution_count": 76,
     "metadata": {},
     "output_type": "execute_result"
    }
   ],
   "source": [
    "df_value_ = df_values[:, 0:2]\n",
    "df_value_"
   ]
  },
  {
   "cell_type": "code",
   "execution_count": 78,
   "id": "63af6dd0",
   "metadata": {},
   "outputs": [],
   "source": [
    "new_df = np.hstack((df_value_, onehot_encoded))"
   ]
  },
  {
   "cell_type": "code",
   "execution_count": 79,
   "id": "b34c63c8",
   "metadata": {},
   "outputs": [
    {
     "data": {
      "text/plain": [
       "(7, 8)"
      ]
     },
     "execution_count": 79,
     "metadata": {},
     "output_type": "execute_result"
    }
   ],
   "source": [
    "new_df.shape"
   ]
  },
  {
   "cell_type": "code",
   "execution_count": 91,
   "id": "5cc12d6d",
   "metadata": {},
   "outputs": [
    {
     "data": {
      "text/html": [
       "<div>\n",
       "<style scoped>\n",
       "    .dataframe tbody tr th:only-of-type {\n",
       "        vertical-align: middle;\n",
       "    }\n",
       "\n",
       "    .dataframe tbody tr th {\n",
       "        vertical-align: top;\n",
       "    }\n",
       "\n",
       "    .dataframe thead th {\n",
       "        text-align: right;\n",
       "    }\n",
       "</style>\n",
       "<table border=\"1\" class=\"dataframe\">\n",
       "  <thead>\n",
       "    <tr style=\"text-align: right;\">\n",
       "      <th></th>\n",
       "      <th>SNR</th>\n",
       "      <th>Modulation order</th>\n",
       "      <th>NaN</th>\n",
       "      <th>BPSK</th>\n",
       "      <th>QPSK</th>\n",
       "      <th>8-QAM</th>\n",
       "      <th>16-QAM</th>\n",
       "      <th>32-QAM</th>\n",
       "    </tr>\n",
       "  </thead>\n",
       "  <tbody>\n",
       "    <tr>\n",
       "      <th>0</th>\n",
       "      <td>4</td>\n",
       "      <td>0</td>\n",
       "      <td>0.0</td>\n",
       "      <td>0.0</td>\n",
       "      <td>0.0</td>\n",
       "      <td>0.0</td>\n",
       "      <td>0.0</td>\n",
       "      <td>1.0</td>\n",
       "    </tr>\n",
       "    <tr>\n",
       "      <th>1</th>\n",
       "      <td>8</td>\n",
       "      <td>1</td>\n",
       "      <td>0.0</td>\n",
       "      <td>0.0</td>\n",
       "      <td>0.0</td>\n",
       "      <td>1.0</td>\n",
       "      <td>0.0</td>\n",
       "      <td>0.0</td>\n",
       "    </tr>\n",
       "    <tr>\n",
       "      <th>2</th>\n",
       "      <td>8</td>\n",
       "      <td>2</td>\n",
       "      <td>0.0</td>\n",
       "      <td>0.0</td>\n",
       "      <td>0.0</td>\n",
       "      <td>0.0</td>\n",
       "      <td>1.0</td>\n",
       "      <td>0.0</td>\n",
       "    </tr>\n",
       "    <tr>\n",
       "      <th>3</th>\n",
       "      <td>10</td>\n",
       "      <td>2</td>\n",
       "      <td>0.0</td>\n",
       "      <td>0.0</td>\n",
       "      <td>0.0</td>\n",
       "      <td>0.0</td>\n",
       "      <td>1.0</td>\n",
       "      <td>0.0</td>\n",
       "    </tr>\n",
       "    <tr>\n",
       "      <th>4</th>\n",
       "      <td>12</td>\n",
       "      <td>3</td>\n",
       "      <td>0.0</td>\n",
       "      <td>0.0</td>\n",
       "      <td>1.0</td>\n",
       "      <td>0.0</td>\n",
       "      <td>0.0</td>\n",
       "      <td>0.0</td>\n",
       "    </tr>\n",
       "    <tr>\n",
       "      <th>5</th>\n",
       "      <td>14</td>\n",
       "      <td>4</td>\n",
       "      <td>1.0</td>\n",
       "      <td>0.0</td>\n",
       "      <td>0.0</td>\n",
       "      <td>0.0</td>\n",
       "      <td>0.0</td>\n",
       "      <td>0.0</td>\n",
       "    </tr>\n",
       "    <tr>\n",
       "      <th>6</th>\n",
       "      <td>16</td>\n",
       "      <td>5</td>\n",
       "      <td>0.0</td>\n",
       "      <td>1.0</td>\n",
       "      <td>0.0</td>\n",
       "      <td>0.0</td>\n",
       "      <td>0.0</td>\n",
       "      <td>0.0</td>\n",
       "    </tr>\n",
       "  </tbody>\n",
       "</table>\n",
       "</div>"
      ],
      "text/plain": [
       "  SNR Modulation order  NaN BPSK QPSK 8-QAM 16-QAM 32-QAM\n",
       "0   4                0  0.0  0.0  0.0   0.0    0.0    1.0\n",
       "1   8                1  0.0  0.0  0.0   1.0    0.0    0.0\n",
       "2   8                2  0.0  0.0  0.0   0.0    1.0    0.0\n",
       "3  10                2  0.0  0.0  0.0   0.0    1.0    0.0\n",
       "4  12                3  0.0  0.0  1.0   0.0    0.0    0.0\n",
       "5  14                4  1.0  0.0  0.0   0.0    0.0    0.0\n",
       "6  16                5  0.0  1.0  0.0   0.0    0.0    0.0"
      ]
     },
     "execution_count": 91,
     "metadata": {},
     "output_type": "execute_result"
    }
   ],
   "source": [
    "df_new = pd.DataFrame(new_df, columns = ['SNR', 'Modulation order', 'NaN', 'BPSK', 'QPSK', '8-QAM', '16-QAM', '32-QAM'])\n",
    "df_new"
   ]
  },
  {
   "cell_type": "code",
   "execution_count": 92,
   "id": "fe9b5444",
   "metadata": {},
   "outputs": [
    {
     "data": {
      "text/plain": [
       "array([[0., 0., 0., 0., 0., 0., 1.],\n",
       "       [1., 0., 0., 0., 1., 0., 0.],\n",
       "       [2., 0., 0., 0., 0., 1., 0.],\n",
       "       [2., 0., 0., 0., 0., 1., 0.],\n",
       "       [3., 0., 0., 1., 0., 0., 0.],\n",
       "       [4., 1., 0., 0., 0., 0., 0.],\n",
       "       [5., 0., 1., 0., 0., 0., 0.]])"
      ]
     },
     "execution_count": 92,
     "metadata": {},
     "output_type": "execute_result"
    }
   ],
   "source": [
    "X = df_new.values[:, 1:].astype(float)\n",
    "X"
   ]
  },
  {
   "cell_type": "code",
   "execution_count": 93,
   "id": "df208c66",
   "metadata": {},
   "outputs": [
    {
     "data": {
      "text/plain": [
       "array([ 4.,  8.,  8., 10., 12., 14., 16.])"
      ]
     },
     "execution_count": 93,
     "metadata": {},
     "output_type": "execute_result"
    }
   ],
   "source": [
    "y = df_new.values[:,0].astype(float)\n",
    "y"
   ]
  },
  {
   "cell_type": "code",
   "execution_count": 94,
   "id": "6fdd8239",
   "metadata": {},
   "outputs": [
    {
     "name": "stdout",
     "output_type": "stream",
     "text": [
      "(7,) (7,)\n"
     ]
    }
   ],
   "source": [
    "u = np.mean(X, axis = 0) # AXIS = 0 tells us to find mean along rows\n",
    "std = np.std(X, axis =0)\n",
    "print(u.shape, std.shape)"
   ]
  },
  {
   "cell_type": "code",
   "execution_count": 95,
   "id": "574262c8",
   "metadata": {},
   "outputs": [
    {
     "data": {
      "text/plain": [
       "LinearRegression()"
      ]
     },
     "execution_count": 95,
     "metadata": {},
     "output_type": "execute_result"
    }
   ],
   "source": [
    "from sklearn.linear_model import LinearRegression\n",
    "from sklearn.metrics import mean_squared_error, r2_score\n",
    "\n",
    "lin_model = LinearRegression()\n",
    "lin_model.fit(X, y)"
   ]
  },
  {
   "cell_type": "code",
   "execution_count": 96,
   "id": "7a1f7b5e",
   "metadata": {},
   "outputs": [],
   "source": [
    "y_predict = lin_model.predict(X)"
   ]
  },
  {
   "cell_type": "code",
   "execution_count": 97,
   "id": "9aaf7bb7",
   "metadata": {},
   "outputs": [
    {
     "data": {
      "text/plain": [
       "array([ 4.,  8.,  9.,  9., 12., 14., 16.])"
      ]
     },
     "execution_count": 97,
     "metadata": {},
     "output_type": "execute_result"
    }
   ],
   "source": [
    "y_predict"
   ]
  },
  {
   "cell_type": "code",
   "execution_count": 105,
   "id": "afe179dc",
   "metadata": {},
   "outputs": [],
   "source": [
    "y_predict = y_predict.reshape(7,1)"
   ]
  },
  {
   "cell_type": "code",
   "execution_count": 98,
   "id": "aec7bd4b",
   "metadata": {},
   "outputs": [
    {
     "data": {
      "text/plain": [
       "0.9798850574712644"
      ]
     },
     "execution_count": 98,
     "metadata": {},
     "output_type": "execute_result"
    }
   ],
   "source": [
    "r2 = r2_score(y, y_predict)\n",
    "r2"
   ]
  },
  {
   "cell_type": "code",
   "execution_count": 99,
   "id": "1f600860",
   "metadata": {},
   "outputs": [
    {
     "data": {
      "text/plain": [
       "array([[4, 0, nan],\n",
       "       [8, 1, 'BPSK'],\n",
       "       [8, 2, 'QPSK'],\n",
       "       [10, 2, 'QPSK'],\n",
       "       [12, 3, '8-QAM'],\n",
       "       [14, 4, '16-QAM'],\n",
       "       [16, 5, '32-QAM']], dtype=object)"
      ]
     },
     "execution_count": 99,
     "metadata": {},
     "output_type": "execute_result"
    }
   ],
   "source": [
    "original = df.values\n",
    "original"
   ]
  },
  {
   "cell_type": "code",
   "execution_count": 106,
   "id": "4090fa7a",
   "metadata": {},
   "outputs": [],
   "source": [
    "final = np.hstack((original, y_predict))"
   ]
  },
  {
   "cell_type": "code",
   "execution_count": 107,
   "id": "98fbba3e",
   "metadata": {},
   "outputs": [
    {
     "data": {
      "text/plain": [
       "array([[4, 0, nan, 4.000000000000002],\n",
       "       [8, 1, 'BPSK', 8.0],\n",
       "       [8, 2, 'QPSK', 9.000000000000002],\n",
       "       [10, 2, 'QPSK', 9.000000000000002],\n",
       "       [12, 3, '8-QAM', 12.000000000000002],\n",
       "       [14, 4, '16-QAM', 14.000000000000004],\n",
       "       [16, 5, '32-QAM', 16.000000000000004]], dtype=object)"
      ]
     },
     "execution_count": 107,
     "metadata": {},
     "output_type": "execute_result"
    }
   ],
   "source": [
    "final"
   ]
  },
  {
   "cell_type": "code",
   "execution_count": 108,
   "id": "2badaa0e",
   "metadata": {},
   "outputs": [],
   "source": [
    "final_df = pd.DataFrame(final, columns=['SNR', 'Modulation order', 'Modulation(AWGN)', 'SNR_predicted'])"
   ]
  },
  {
   "cell_type": "code",
   "execution_count": 109,
   "id": "0e0b1961",
   "metadata": {},
   "outputs": [
    {
     "data": {
      "text/html": [
       "<div>\n",
       "<style scoped>\n",
       "    .dataframe tbody tr th:only-of-type {\n",
       "        vertical-align: middle;\n",
       "    }\n",
       "\n",
       "    .dataframe tbody tr th {\n",
       "        vertical-align: top;\n",
       "    }\n",
       "\n",
       "    .dataframe thead th {\n",
       "        text-align: right;\n",
       "    }\n",
       "</style>\n",
       "<table border=\"1\" class=\"dataframe\">\n",
       "  <thead>\n",
       "    <tr style=\"text-align: right;\">\n",
       "      <th></th>\n",
       "      <th>SNR</th>\n",
       "      <th>Modulation order</th>\n",
       "      <th>Modulation(AWGN)</th>\n",
       "      <th>SNR_predicted</th>\n",
       "    </tr>\n",
       "  </thead>\n",
       "  <tbody>\n",
       "    <tr>\n",
       "      <th>0</th>\n",
       "      <td>4</td>\n",
       "      <td>0</td>\n",
       "      <td>NaN</td>\n",
       "      <td>4.0</td>\n",
       "    </tr>\n",
       "    <tr>\n",
       "      <th>1</th>\n",
       "      <td>8</td>\n",
       "      <td>1</td>\n",
       "      <td>BPSK</td>\n",
       "      <td>8.0</td>\n",
       "    </tr>\n",
       "    <tr>\n",
       "      <th>2</th>\n",
       "      <td>8</td>\n",
       "      <td>2</td>\n",
       "      <td>QPSK</td>\n",
       "      <td>9.0</td>\n",
       "    </tr>\n",
       "    <tr>\n",
       "      <th>3</th>\n",
       "      <td>10</td>\n",
       "      <td>2</td>\n",
       "      <td>QPSK</td>\n",
       "      <td>9.0</td>\n",
       "    </tr>\n",
       "    <tr>\n",
       "      <th>4</th>\n",
       "      <td>12</td>\n",
       "      <td>3</td>\n",
       "      <td>8-QAM</td>\n",
       "      <td>12.0</td>\n",
       "    </tr>\n",
       "    <tr>\n",
       "      <th>5</th>\n",
       "      <td>14</td>\n",
       "      <td>4</td>\n",
       "      <td>16-QAM</td>\n",
       "      <td>14.0</td>\n",
       "    </tr>\n",
       "    <tr>\n",
       "      <th>6</th>\n",
       "      <td>16</td>\n",
       "      <td>5</td>\n",
       "      <td>32-QAM</td>\n",
       "      <td>16.0</td>\n",
       "    </tr>\n",
       "  </tbody>\n",
       "</table>\n",
       "</div>"
      ],
      "text/plain": [
       "  SNR Modulation order Modulation(AWGN) SNR_predicted\n",
       "0   4                0              NaN           4.0\n",
       "1   8                1             BPSK           8.0\n",
       "2   8                2             QPSK           9.0\n",
       "3  10                2             QPSK           9.0\n",
       "4  12                3            8-QAM          12.0\n",
       "5  14                4           16-QAM          14.0\n",
       "6  16                5           32-QAM          16.0"
      ]
     },
     "execution_count": 109,
     "metadata": {},
     "output_type": "execute_result"
    }
   ],
   "source": [
    "final_df"
   ]
  },
  {
   "cell_type": "code",
   "execution_count": 115,
   "id": "5c6ab823",
   "metadata": {},
   "outputs": [],
   "source": [
    "def hypothesis(x, theta): #input is jth row of X and theta\n",
    "    y_ =0.0\n",
    "    n = x.shape[0]\n",
    "    for i in range(n):\n",
    "        y_ += (theta[i]*x[i])\n",
    "    return y_\n",
    "\n",
    "def error(X,y, theta):\n",
    "    e = 0.0\n",
    "    n = X.shape[0]\n",
    "    \n",
    "    for i in range(n):\n",
    "        y_ = hypothesis(X[i], theta)\n",
    "        e +=(y[i]-y_)**2 #y of current example - y_ of current example\n",
    "        \n",
    "    return e/n\n",
    "\n",
    "def gradient(X,y, theta):\n",
    "    m,n =X.shape\n",
    "    grad =np.zeros((n, ))\n",
    "    \n",
    "    #for all value of j\n",
    "    for j in range(n): \n",
    "        #sum over all examples\n",
    "        for i in range(m): \n",
    "            y_ =hypothesis(X[i], theta)\n",
    "            grad[j] += (y_ - y[i])*X[i][j]\n",
    "    #out of the loop \n",
    "    return grad/m\n",
    "            \n",
    "\n",
    "def gradient_descent(X,y, learning_rate=0.2, max_epochs =300):\n",
    "    m,n = X.shape\n",
    "    theta =np.zeros((n,))\n",
    "    error_list = []\n",
    "    \n",
    "    for i in range(max_epochs):\n",
    "        e = error(X,y,theta)\n",
    "        error_list.append(e)\n",
    "    \n",
    "        #Gradient Descent\n",
    "        grad = gradient(X,y, theta)\n",
    "        for j in range(n):\n",
    "            theta[j] = theta[j] -learning_rate*grad[j]\n",
    "    \n",
    "    return theta, error_list"
   ]
  },
  {
   "cell_type": "code",
   "execution_count": 116,
   "id": "ec1e4107",
   "metadata": {},
   "outputs": [
    {
     "name": "stdout",
     "output_type": "stream",
     "text": [
      "[ 3.53571429 -0.14283745 -1.678296    1.3926211   4.46353819  1.9285713\n",
      "  3.99933116]\n"
     ]
    }
   ],
   "source": [
    "theta, error_list =gradient_descent(X,y)\n",
    "print(theta)"
   ]
  },
  {
   "cell_type": "code",
   "execution_count": 118,
   "id": "c10b314c",
   "metadata": {},
   "outputs": [
    {
     "name": "stdout",
     "output_type": "stream",
     "text": [
      "Collecting notebook-as-pdf"
     ]
    },
    {
     "name": "stderr",
     "output_type": "stream",
     "text": [
      "WARNING: You are using pip version 21.2.4; however, version 21.3.1 is available.\n",
      "You should consider upgrading via the 'C:\\Python\\python.exe -m pip install --upgrade pip' command.\n"
     ]
    },
    {
     "name": "stdout",
     "output_type": "stream",
     "text": [
      "\n",
      "  Downloading notebook_as_pdf-0.5.0-py3-none-any.whl (6.5 kB)\n",
      "Collecting PyPDF2\n",
      "  Downloading PyPDF2-1.26.0.tar.gz (77 kB)\n",
      "Collecting pyppeteer\n",
      "  Downloading pyppeteer-1.0.2-py3-none-any.whl (83 kB)\n",
      "Requirement already satisfied: nbconvert in c:\\python\\lib\\site-packages (from notebook-as-pdf) (6.0.7)\n",
      "Requirement already satisfied: bleach in c:\\python\\lib\\site-packages (from nbconvert->notebook-as-pdf) (3.3.0)\n",
      "Requirement already satisfied: jinja2>=2.4 in c:\\python\\lib\\site-packages (from nbconvert->notebook-as-pdf) (2.11.3)\n",
      "Requirement already satisfied: jupyter-core in c:\\python\\lib\\site-packages (from nbconvert->notebook-as-pdf) (4.7.1)\n",
      "Requirement already satisfied: nbformat>=4.4 in c:\\python\\lib\\site-packages (from nbconvert->notebook-as-pdf) (5.1.3)\n",
      "Requirement already satisfied: testpath in c:\\python\\lib\\site-packages (from nbconvert->notebook-as-pdf) (0.4.4)\n",
      "Requirement already satisfied: pygments>=2.4.1 in c:\\python\\lib\\site-packages (from nbconvert->notebook-as-pdf) (2.8.1)\n",
      "Requirement already satisfied: entrypoints>=0.2.2 in c:\\python\\lib\\site-packages (from nbconvert->notebook-as-pdf) (0.3)\n",
      "Requirement already satisfied: defusedxml in c:\\python\\lib\\site-packages (from nbconvert->notebook-as-pdf) (0.7.1)\n",
      "Requirement already satisfied: nbclient<0.6.0,>=0.5.0 in c:\\python\\lib\\site-packages (from nbconvert->notebook-as-pdf) (0.5.3)\n",
      "Requirement already satisfied: pandocfilters>=1.4.1 in c:\\python\\lib\\site-packages (from nbconvert->notebook-as-pdf) (1.4.3)\n",
      "Requirement already satisfied: jupyterlab-pygments in c:\\python\\lib\\site-packages (from nbconvert->notebook-as-pdf) (0.1.2)\n",
      "Requirement already satisfied: traitlets>=4.2 in c:\\python\\lib\\site-packages (from nbconvert->notebook-as-pdf) (5.0.5)\n",
      "Requirement already satisfied: mistune<2,>=0.8.1 in c:\\python\\lib\\site-packages (from nbconvert->notebook-as-pdf) (0.8.4)\n",
      "Requirement already satisfied: MarkupSafe>=0.23 in c:\\python\\lib\\site-packages (from jinja2>=2.4->nbconvert->notebook-as-pdf) (1.1.1)\n",
      "Requirement already satisfied: async-generator in c:\\python\\lib\\site-packages (from nbclient<0.6.0,>=0.5.0->nbconvert->notebook-as-pdf) (1.10)\n",
      "Requirement already satisfied: jupyter-client>=6.1.5 in c:\\python\\lib\\site-packages (from nbclient<0.6.0,>=0.5.0->nbconvert->notebook-as-pdf) (6.1.12)\n",
      "Requirement already satisfied: nest-asyncio in c:\\python\\lib\\site-packages (from nbclient<0.6.0,>=0.5.0->nbconvert->notebook-as-pdf) (1.5.1)\n",
      "Requirement already satisfied: python-dateutil>=2.1 in c:\\python\\lib\\site-packages (from jupyter-client>=6.1.5->nbclient<0.6.0,>=0.5.0->nbconvert->notebook-as-pdf) (2.8.1)\n",
      "Requirement already satisfied: pyzmq>=13 in c:\\python\\lib\\site-packages (from jupyter-client>=6.1.5->nbclient<0.6.0,>=0.5.0->nbconvert->notebook-as-pdf) (22.0.3)\n",
      "Requirement already satisfied: tornado>=4.1 in c:\\python\\lib\\site-packages (from jupyter-client>=6.1.5->nbclient<0.6.0,>=0.5.0->nbconvert->notebook-as-pdf) (6.1)\n",
      "Requirement already satisfied: pywin32>=1.0 in c:\\python\\lib\\site-packages (from jupyter-core->nbconvert->notebook-as-pdf) (300)\n",
      "Requirement already satisfied: jsonschema!=2.5.0,>=2.4 in c:\\python\\lib\\site-packages (from nbformat>=4.4->nbconvert->notebook-as-pdf) (3.2.0)\n",
      "Requirement already satisfied: ipython-genutils in c:\\python\\lib\\site-packages (from nbformat>=4.4->nbconvert->notebook-as-pdf) (0.2.0)\n",
      "Requirement already satisfied: pyrsistent>=0.14.0 in c:\\python\\lib\\site-packages (from jsonschema!=2.5.0,>=2.4->nbformat>=4.4->nbconvert->notebook-as-pdf) (0.17.3)\n",
      "Requirement already satisfied: setuptools in c:\\python\\lib\\site-packages (from jsonschema!=2.5.0,>=2.4->nbformat>=4.4->nbconvert->notebook-as-pdf) (49.2.1)\n",
      "Requirement already satisfied: attrs>=17.4.0 in c:\\python\\lib\\site-packages (from jsonschema!=2.5.0,>=2.4->nbformat>=4.4->nbconvert->notebook-as-pdf) (20.3.0)\n",
      "Requirement already satisfied: six>=1.11.0 in c:\\python\\lib\\site-packages (from jsonschema!=2.5.0,>=2.4->nbformat>=4.4->nbconvert->notebook-as-pdf) (1.15.0)\n",
      "Requirement already satisfied: webencodings in c:\\python\\lib\\site-packages (from bleach->nbconvert->notebook-as-pdf) (0.5.1)\n",
      "Requirement already satisfied: packaging in c:\\python\\lib\\site-packages (from bleach->nbconvert->notebook-as-pdf) (20.9)\n",
      "Requirement already satisfied: pyparsing>=2.0.2 in c:\\python\\lib\\site-packages (from packaging->bleach->nbconvert->notebook-as-pdf) (2.4.7)\n",
      "Collecting importlib-metadata>=1.4\n",
      "  Downloading importlib_metadata-4.10.0-py3-none-any.whl (17 kB)\n",
      "Requirement already satisfied: urllib3<2.0.0,>=1.25.8 in c:\\python\\lib\\site-packages (from pyppeteer->notebook-as-pdf) (1.26.4)\n",
      "Collecting pyee<9.0.0,>=8.1.0\n",
      "  Downloading pyee-8.2.2-py2.py3-none-any.whl (12 kB)\n",
      "Collecting certifi>=2021\n",
      "  Using cached certifi-2021.10.8-py2.py3-none-any.whl (149 kB)\n",
      "Collecting websockets<11.0,>=10.0\n",
      "  Downloading websockets-10.1-cp39-cp39-win_amd64.whl (97 kB)\n",
      "Requirement already satisfied: appdirs<2.0.0,>=1.4.3 in c:\\python\\lib\\site-packages (from pyppeteer->notebook-as-pdf) (1.4.4)\n",
      "Requirement already satisfied: tqdm<5.0.0,>=4.42.1 in c:\\python\\lib\\site-packages (from pyppeteer->notebook-as-pdf) (4.61.0)\n",
      "Requirement already satisfied: zipp>=0.5 in c:\\python\\lib\\site-packages (from importlib-metadata>=1.4->pyppeteer->notebook-as-pdf) (3.4.1)\n",
      "Building wheels for collected packages: PyPDF2\n",
      "  Building wheel for PyPDF2 (setup.py): started\n",
      "  Building wheel for PyPDF2 (setup.py): finished with status 'done'\n",
      "  Created wheel for PyPDF2: filename=PyPDF2-1.26.0-py3-none-any.whl size=61085 sha256=364c1ff63cbd3eff385589f4a8c6c8a996d4f1f1b320c2c3a13b08d3ad37d569\n",
      "  Stored in directory: c:\\users\\vivek\\appdata\\local\\pip\\cache\\wheels\\d9\\dc\\ec\\72da68331f30074b9950c1737c23cb8a67484e61498bc9713d\n",
      "Successfully built PyPDF2\n",
      "Installing collected packages: websockets, pyee, importlib-metadata, certifi, pyppeteer, PyPDF2, notebook-as-pdf\n",
      "  Attempting uninstall: certifi\n",
      "    Found existing installation: certifi 2020.12.5\n",
      "    Uninstalling certifi-2020.12.5:\n",
      "      Successfully uninstalled certifi-2020.12.5\n",
      "Successfully installed PyPDF2-1.26.0 certifi-2021.10.8 importlib-metadata-4.10.0 notebook-as-pdf-0.5.0 pyee-8.2.2 pyppeteer-1.0.2 websockets-10.1\n"
     ]
    },
    {
     "name": "stderr",
     "output_type": "stream",
     "text": [
      "[INFO] Starting Chromium download.\n",
      "\n",
      "  0%|          | 0.00/137M [00:00<?, ?b/s]\n",
      "  0%|          | 133k/137M [00:00<01:42, 1.33Mb/s]\n",
      "  0%|          | 584k/137M [00:00<00:42, 3.18Mb/s]\n",
      "  1%|          | 1.11M/137M [00:00<00:35, 3.80Mb/s]\n",
      "  1%|1         | 2.05M/137M [00:00<00:25, 5.21Mb/s]\n",
      "  3%|3         | 4.25M/137M [00:00<00:14, 9.39Mb/s]\n",
      "  4%|4         | 5.81M/137M [00:00<00:11, 11.2Mb/s]\n",
      "  5%|5         | 6.92M/137M [00:00<00:12, 10.4Mb/s]\n",
      "  6%|6         | 8.68M/137M [00:00<00:10, 12.2Mb/s]\n",
      "  8%|8         | 11.3M/137M [00:01<00:07, 16.2Mb/s]\n",
      " 10%|9         | 13.1M/137M [00:01<00:08, 15.4Mb/s]\n",
      " 12%|#2        | 16.6M/137M [00:01<00:05, 20.9Mb/s]\n",
      " 14%|#4        | 19.2M/137M [00:01<00:06, 19.5Mb/s]\n",
      " 16%|#5        | 21.3M/137M [00:01<00:06, 18.9Mb/s]\n",
      " 18%|#7        | 24.0M/137M [00:01<00:05, 21.0Mb/s]\n",
      " 19%|#9        | 26.6M/137M [00:01<00:04, 22.4Mb/s]\n",
      " 21%|##1       | 28.9M/137M [00:01<00:05, 20.6Mb/s]\n",
      " 23%|##2       | 31.0M/137M [00:02<00:06, 15.2Mb/s]\n",
      " 24%|##3       | 32.8M/137M [00:02<00:07, 13.1Mb/s]\n",
      " 25%|##5       | 34.6M/137M [00:02<00:07, 13.7Mb/s]\n",
      " 27%|##6       | 36.7M/137M [00:02<00:06, 14.9Mb/s]\n",
      " 28%|##7       | 38.3M/137M [00:02<00:06, 14.4Mb/s]\n",
      " 29%|##9       | 39.9M/137M [00:02<00:06, 13.9Mb/s]\n",
      " 30%|###       | 41.5M/137M [00:02<00:06, 14.6Mb/s]\n",
      " 31%|###1      | 43.1M/137M [00:02<00:06, 14.3Mb/s]\n",
      " 33%|###2      | 44.5M/137M [00:03<00:06, 13.6Mb/s]\n",
      " 34%|###3      | 46.5M/137M [00:03<00:06, 14.7Mb/s]\n",
      " 35%|###5      | 48.0M/137M [00:03<00:07, 11.9Mb/s]\n",
      " 36%|###6      | 49.3M/137M [00:03<00:07, 12.2Mb/s]\n",
      " 37%|###6      | 50.6M/137M [00:03<00:08, 10.6Mb/s]\n",
      " 38%|###8      | 52.5M/137M [00:03<00:06, 12.4Mb/s]\n",
      " 39%|###9      | 53.8M/137M [00:03<00:07, 10.9Mb/s]\n",
      " 40%|####      | 55.0M/137M [00:04<00:07, 10.8Mb/s]\n",
      " 41%|####1     | 56.2M/137M [00:04<00:08, 9.46Mb/s]\n",
      " 42%|####2     | 57.9M/137M [00:04<00:07, 11.1Mb/s]\n",
      " 43%|####3     | 59.1M/137M [00:04<00:07, 11.0Mb/s]\n",
      " 44%|####3     | 60.2M/137M [00:04<00:06, 11.0Mb/s]\n",
      " 45%|####4     | 61.4M/137M [00:04<00:06, 10.9Mb/s]\n",
      " 46%|####5     | 62.5M/137M [00:04<00:07, 9.86Mb/s]\n",
      " 47%|####6     | 64.0M/137M [00:04<00:06, 11.2Mb/s]\n",
      " 48%|####7     | 65.2M/137M [00:04<00:06, 11.1Mb/s]\n",
      " 48%|####8     | 66.3M/137M [00:05<00:06, 10.8Mb/s]\n",
      " 49%|####9     | 67.5M/137M [00:05<00:06, 11.0Mb/s]\n",
      " 50%|#####     | 68.6M/137M [00:05<00:06, 11.0Mb/s]\n",
      " 51%|#####     | 69.7M/137M [00:05<00:06, 10.9Mb/s]\n",
      " 52%|#####1    | 70.8M/137M [00:05<00:06, 10.9Mb/s]\n",
      " 53%|#####2    | 71.9M/137M [00:05<00:07, 9.28Mb/s]\n",
      " 53%|#####3    | 73.0M/137M [00:05<00:06, 9.75Mb/s]\n",
      " 54%|#####4    | 74.1M/137M [00:05<00:06, 10.1Mb/s]\n",
      " 55%|#####4    | 75.2M/137M [00:05<00:06, 10.3Mb/s]\n",
      " 56%|#####5    | 76.3M/137M [00:06<00:05, 10.4Mb/s]\n",
      " 57%|#####6    | 77.4M/137M [00:06<00:05, 10.6Mb/s]\n",
      " 57%|#####7    | 78.6M/137M [00:06<00:05, 11.0Mb/s]\n",
      " 58%|#####8    | 80.0M/137M [00:06<00:04, 11.7Mb/s]\n",
      " 59%|#####9    | 81.2M/137M [00:06<00:07, 7.12Mb/s]\n",
      " 60%|#####9    | 82.1M/137M [00:06<00:08, 6.82Mb/s]\n",
      " 62%|######1   | 84.4M/137M [00:06<00:05, 10.2Mb/s]\n",
      " 63%|######2   | 86.0M/137M [00:07<00:04, 11.3Mb/s]\n",
      " 64%|######3   | 87.3M/137M [00:07<00:04, 10.6Mb/s]\n",
      " 65%|######4   | 88.5M/137M [00:07<00:05, 9.25Mb/s]\n",
      " 65%|######5   | 89.6M/137M [00:07<00:05, 8.96Mb/s]\n",
      " 67%|######6   | 91.2M/137M [00:07<00:04, 9.78Mb/s]\n",
      " 67%|######7   | 92.2M/137M [00:08<00:07, 5.94Mb/s]\n",
      " 68%|######7   | 93.0M/137M [00:08<00:07, 6.07Mb/s]\n",
      " 69%|######8   | 93.8M/137M [00:08<00:08, 4.91Mb/s]\n",
      " 69%|######8   | 94.4M/137M [00:08<00:09, 4.49Mb/s]\n",
      " 69%|######9   | 95.0M/137M [00:08<00:09, 4.53Mb/s]\n",
      " 70%|######9   | 95.6M/137M [00:08<00:09, 4.53Mb/s]\n",
      " 70%|#######   | 96.3M/137M [00:08<00:08, 4.94Mb/s]\n",
      " 71%|#######   | 96.9M/137M [00:09<00:07, 5.08Mb/s]\n",
      " 71%|#######1  | 97.8M/137M [00:09<00:06, 6.02Mb/s]\n",
      " 72%|#######1  | 98.5M/137M [00:09<00:06, 6.11Mb/s]\n",
      " 72%|#######2  | 99.2M/137M [00:09<00:05, 6.38Mb/s]\n",
      " 73%|#######2  | 99.9M/137M [00:09<00:06, 5.49Mb/s]\n",
      " 74%|#######3  | 101M/137M [00:09<00:06, 5.69Mb/s] \n",
      " 74%|#######4  | 102M/137M [00:09<00:04, 7.26Mb/s]\n",
      " 75%|#######4  | 103M/137M [00:09<00:05, 6.45Mb/s]\n",
      " 75%|#######5  | 103M/137M [00:10<00:06, 5.51Mb/s]\n",
      " 76%|#######6  | 104M/137M [00:10<00:04, 6.63Mb/s]\n",
      " 77%|#######6  | 105M/137M [00:10<00:04, 7.16Mb/s]\n",
      " 78%|#######7  | 107M/137M [00:10<00:03, 7.84Mb/s]\n",
      " 79%|#######8  | 108M/137M [00:10<00:03, 8.14Mb/s]\n",
      " 79%|#######9  | 109M/137M [00:10<00:03, 8.54Mb/s]\n",
      " 80%|#######9  | 109M/137M [00:10<00:03, 7.22Mb/s]\n",
      " 81%|########  | 110M/137M [00:10<00:03, 7.21Mb/s]\n",
      " 81%|########1 | 111M/137M [00:11<00:03, 6.75Mb/s]\n",
      " 82%|########2 | 112M/137M [00:11<00:02, 8.42Mb/s]\n",
      " 83%|########2 | 113M/137M [00:11<00:02, 9.02Mb/s]\n",
      " 84%|########3 | 114M/137M [00:11<00:02, 7.56Mb/s]\n",
      " 84%|########4 | 116M/137M [00:11<00:02, 8.46Mb/s]\n",
      " 85%|########5 | 117M/137M [00:11<00:02, 7.59Mb/s]\n",
      " 87%|########6 | 119M/137M [00:11<00:01, 9.12Mb/s]\n",
      " 87%|########7 | 120M/137M [00:12<00:01, 8.83Mb/s]\n",
      " 88%|########8 | 121M/137M [00:12<00:02, 7.46Mb/s]\n",
      " 89%|########8 | 121M/137M [00:12<00:02, 6.99Mb/s]\n",
      " 89%|########9 | 122M/137M [00:12<00:02, 6.65Mb/s]\n",
      " 90%|########9 | 123M/137M [00:12<00:01, 7.50Mb/s]\n",
      " 90%|######### | 124M/137M [00:12<00:01, 7.31Mb/s]\n",
      " 91%|#########1| 125M/137M [00:12<00:01, 7.50Mb/s]\n",
      " 92%|#########1| 125M/137M [00:12<00:01, 6.95Mb/s]\n",
      " 92%|#########2| 126M/137M [00:13<00:01, 7.44Mb/s]\n",
      " 93%|#########2| 127M/137M [00:13<00:01, 6.56Mb/s]\n",
      " 94%|#########3| 128M/137M [00:13<00:01, 6.82Mb/s]\n",
      " 94%|#########4| 129M/137M [00:13<00:01, 6.58Mb/s]\n",
      " 95%|#########4| 129M/137M [00:13<00:01, 5.51Mb/s]\n",
      " 95%|#########4| 130M/137M [00:13<00:01, 5.13Mb/s]\n",
      " 96%|#########5| 131M/137M [00:13<00:01, 5.56Mb/s]\n",
      " 97%|#########6| 132M/137M [00:14<00:00, 6.55Mb/s]\n",
      " 97%|#########7| 133M/137M [00:14<00:00, 6.70Mb/s]\n",
      " 98%|#########7| 134M/137M [00:14<00:00, 6.49Mb/s]\n",
      " 98%|#########8| 134M/137M [00:14<00:00, 5.90Mb/s]\n",
      " 99%|#########8| 135M/137M [00:14<00:00, 5.32Mb/s]\n",
      " 99%|#########8| 136M/137M [00:14<00:00, 5.32Mb/s]\n",
      "100%|#########9| 137M/137M [00:14<00:00, 6.63Mb/s]\n",
      "100%|##########| 137M/137M [00:14<00:00, 9.25Mb/s]\n",
      "[INFO] Beginning extraction\n",
      "[INFO] Chromium extracted to: C:\\Users\\vivek\\AppData\\Local\\pyppeteer\\pyppeteer\\local-chromium\\588429\n"
     ]
    }
   ],
   "source": [
    "!python -m pip install -U notebook-as-pdf\n",
    "!pyppeteer-install"
   ]
  },
  {
   "cell_type": "code",
   "execution_count": null,
   "id": "2a5b36b6",
   "metadata": {},
   "outputs": [],
   "source": []
  }
 ],
 "metadata": {
  "kernelspec": {
   "display_name": "Python 3",
   "language": "python",
   "name": "python3"
  },
  "language_info": {
   "codemirror_mode": {
    "name": "ipython",
    "version": 3
   },
   "file_extension": ".py",
   "mimetype": "text/x-python",
   "name": "python",
   "nbconvert_exporter": "python",
   "pygments_lexer": "ipython3",
   "version": "3.9.4"
  }
 },
 "nbformat": 4,
 "nbformat_minor": 5
}
